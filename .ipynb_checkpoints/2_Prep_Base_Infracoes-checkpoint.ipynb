{
 "cells": [
  {
   "cell_type": "markdown",
   "metadata": {},
   "source": [
    "<span style=\"font-family: calibre;font-size:3em\">Visão Geral </span>"
   ]
  },
  {
   "cell_type": "markdown",
   "metadata": {},
   "source": [
    " <p style='font-family:calibre; font-size:14pt' >\n",
    "    <b>Assunto: </b> Acidentes de trânsito em rodovias federais <br>\n",
    "    <b>Base: </b>Informação dos acidentes agrupados por ocorrência ou por pessoa <br>\n",
    "    <b>Dados disponiveis em : </b> \n",
    "    <a href='https://portal.prf.gov.br/dados-abertos-acidentes'>Acidentes - Policia Rodoviaria Federal - PRF</a><br>\n",
    "    <b>Dicionário de dados disponiveis em : </b> \n",
    "    <a href='https://portal.prf.gov.br/dados-abetos-dicionario-acidentes'>Dicionário de Dados - Policia Rodoviaria Federal - PRF</a><br>\n",
    "    <b>Periodo Disponível:</b>2007 a 05/2020 <br>\n",
    "</p>"
   ]
  },
  {
   "cell_type": "markdown",
   "metadata": {},
   "source": [
    "## Preparação de Dados"
   ]
  },
  {
   "cell_type": "markdown",
   "metadata": {},
   "source": [
    "### 1. Import de dados "
   ]
  },
  {
   "cell_type": "code",
   "execution_count": 3,
   "metadata": {},
   "outputs": [],
   "source": [
    "#Imports de Bibliotecas a serem utilizadas\n",
    "import pandas as pd \n",
    "import numpy as np\n",
    "import matplotlib.pyplot as plt\n",
    "# Transfomacao\n",
    "from scipy import stats\n",
    "# for min_max scaling\n",
    "from sklearn.preprocessing import StandardScaler, MinMaxScaler\n",
    "# plotting \n",
    "from scipy import stats, integrate\n",
    "import matplotlib.pyplot as plt\n",
    "import seaborn as sns\n",
    "from sklearn.linear_model import LinearRegression\n",
    "import math\n",
    "%matplotlib inline"
   ]
  },
  {
   "cell_type": "markdown",
   "metadata": {},
   "source": [
    "### 2. Salvar dados na estrutura de Dicionario"
   ]
  },
  {
   "cell_type": "code",
   "execution_count": null,
   "metadata": {},
   "outputs": [],
   "source": [
    "df  = "
   ]
  },
  {
   "cell_type": "markdown",
   "metadata": {},
   "source": [
    "### 3. Une todas bases"
   ]
  },
  {
   "cell_type": "markdown",
   "metadata": {},
   "source": [
    "### 4. Valores registrado como Null"
   ]
  },
  {
   "cell_type": "code",
   "execution_count": null,
   "metadata": {},
   "outputs": [],
   "source": [
    "### 3. Une todas bases"
   ]
  }
 ],
 "metadata": {
  "kernelspec": {
   "display_name": "Python 3",
   "language": "python",
   "name": "python3"
  },
  "language_info": {
   "codemirror_mode": {
    "name": "ipython",
    "version": 3
   },
   "file_extension": ".py",
   "mimetype": "text/x-python",
   "name": "python",
   "nbconvert_exporter": "python",
   "pygments_lexer": "ipython3",
   "version": "3.7.4"
  }
 },
 "nbformat": 4,
 "nbformat_minor": 2
}
