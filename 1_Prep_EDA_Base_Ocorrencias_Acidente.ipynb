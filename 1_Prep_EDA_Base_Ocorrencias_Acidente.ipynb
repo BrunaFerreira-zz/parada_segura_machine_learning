{
 "cells": [
  {
   "cell_type": "markdown",
   "metadata": {},
   "source": [
    "<span style=\"font-family: calibre;font-size:3em\">Visão Geral </span>"
   ]
  },
  {
   "cell_type": "markdown",
   "metadata": {},
   "source": [
    " <p style='font-family:calibre; font-size:14pt' >\n",
    "    <b>Assunto: </b> Acidentes de trânsito em rodovias federais <br>\n",
    "    <b>Base: </b>Informação dos acidentes agrupados por ocorrência ou por pessoa <br>\n",
    "    <b>Dados disponiveis em : </b> \n",
    "    <a href='https://portal.prf.gov.br/dados-abertos-acidentes'>Acidentes - Policia Rodoviaria Federal - PRF</a><br>\n",
    "    <b>Dicionário de dados disponiveis em : </b> \n",
    "    <a href='https://arquivos.prf.gov.br/arquivos/index.php/s/mheQDcXUx2veHnU'>Dicionário de Dados - Policia Rodoviaria Federal - PRF</a><br>\n",
    "    <b>Periodo Disponível:</b>2007 a 05/2020. Mas devido a atualização de campos da base em 2017,incluindo latitude e longitute que é nossa chave de ligação com os pontos de parada, usuremos a partir desse periodo. <br>\n",
    "</p>"
   ]
  },
  {
   "cell_type": "markdown",
   "metadata": {},
   "source": [
    "## Preparação de Dados"
   ]
  },
  {
   "cell_type": "markdown",
   "metadata": {},
   "source": [
    "### 1. Import de dados "
   ]
  },
  {
   "cell_type": "code",
   "execution_count": 1,
   "metadata": {},
   "outputs": [],
   "source": [
    "#Imports de Bibliotecas a serem utilizadas\n",
    "import pandas as pd \n",
    "import numpy as np\n",
    "import matplotlib.pyplot as plt\n",
    "# Transfomacao\n",
    "from scipy import stats\n",
    "# for min_max scaling\n",
    "from sklearn.preprocessing import StandardScaler, MinMaxScaler\n",
    "# plotting \n",
    "from scipy import stats, integrate\n",
    "import matplotlib.pyplot as plt\n",
    "import seaborn as sns\n",
    "from sklearn.linear_model import LinearRegression\n",
    "import math\n",
    "from scipy import stats\n",
    "%matplotlib inline"
   ]
  },
  {
   "cell_type": "markdown",
   "metadata": {},
   "source": [
    "### 2. Salvar dados na estrutura de Dicionario"
   ]
  },
  {
   "cell_type": "code",
   "execution_count": 2,
   "metadata": {},
   "outputs": [],
   "source": [
    "#Salva Dados em estrutura de dicionario\n",
    "dic_dados = {}\n",
    "for i in range(2017,2021):\n",
    "    base = 'acidentes'+str(i)\n",
    "    dados =str('data_'+str(i))\n",
    "    dados= pd.read_csv(\"data/acidentes/\"+base+\".csv\", encoding = 'latin1', sep = \";\",parse_dates=['data_inversa'])\n",
    "#Identificar o ano\n",
    "    dados['Base'] = base\n",
    "    dic_dados[base]=dados"
   ]
  },
  {
   "cell_type": "markdown",
   "metadata": {},
   "source": [
    "### 3. Une todas bases"
   ]
  },
  {
   "cell_type": "code",
   "execution_count": 3,
   "metadata": {},
   "outputs": [],
   "source": [
    "#Unir todas bases\n",
    "new_data =pd.concat([dic_dados['acidentes2017'],\n",
    "                      dic_dados['acidentes2018'],\n",
    "                      dic_dados['acidentes2019'],\n",
    "                      dic_dados['acidentes2020']], ignore_index=True)"
   ]
  },
  {
   "cell_type": "code",
   "execution_count": 4,
   "metadata": {},
   "outputs": [],
   "source": [
    "#Identificar colunas do tipo texto (object)\n",
    "df_string = new_data.select_dtypes(include = object)\n",
    "cols_string = df_string.columns.tolist()\n",
    "#transformar todos os campos de texto em minusculo e sem espaço\n",
    "for i in cols_string:\n",
    "    new_data[i] = new_data[i].str.strip()\n",
    "    new_data[i] = new_data[i].str.lower()"
   ]
  },
  {
   "cell_type": "markdown",
   "metadata": {},
   "source": [
    "### 4. Filtros de acidentes apenas de caminhoneiros"
   ]
  },
  {
   "cell_type": "code",
   "execution_count": 5,
   "metadata": {},
   "outputs": [],
   "source": [
    "df_filtro = new_data[new_data['tipo_veiculo'].str.contains('cami')]"
   ]
  },
  {
   "cell_type": "code",
   "execution_count": 6,
   "metadata": {},
   "outputs": [
    {
     "data": {
      "text/html": [
       "<div>\n",
       "<style scoped>\n",
       "    .dataframe tbody tr th:only-of-type {\n",
       "        vertical-align: middle;\n",
       "    }\n",
       "\n",
       "    .dataframe tbody tr th {\n",
       "        vertical-align: top;\n",
       "    }\n",
       "\n",
       "    .dataframe thead th {\n",
       "        text-align: right;\n",
       "    }\n",
       "</style>\n",
       "<table border=\"1\" class=\"dataframe\">\n",
       "  <thead>\n",
       "    <tr style=\"text-align: right;\">\n",
       "      <th></th>\n",
       "      <th>Tipo_Veiculo</th>\n",
       "      <th>Frequencia Absoluta</th>\n",
       "      <th>Frequencia Relativa</th>\n",
       "    </tr>\n",
       "  </thead>\n",
       "  <tbody>\n",
       "    <tr>\n",
       "      <td>0</td>\n",
       "      <td>caminhonete</td>\n",
       "      <td>51892</td>\n",
       "      <td>8.981677</td>\n",
       "    </tr>\n",
       "    <tr>\n",
       "      <td>1</td>\n",
       "      <td>caminhão-trator</td>\n",
       "      <td>46056</td>\n",
       "      <td>7.971559</td>\n",
       "    </tr>\n",
       "    <tr>\n",
       "      <td>2</td>\n",
       "      <td>caminhão</td>\n",
       "      <td>42050</td>\n",
       "      <td>7.278184</td>\n",
       "    </tr>\n",
       "    <tr>\n",
       "      <td>3</td>\n",
       "      <td>camioneta</td>\n",
       "      <td>14823</td>\n",
       "      <td>2.565625</td>\n",
       "    </tr>\n",
       "  </tbody>\n",
       "</table>\n",
       "</div>"
      ],
      "text/plain": [
       "      Tipo_Veiculo  Frequencia Absoluta  Frequencia Relativa\n",
       "0      caminhonete                51892             8.981677\n",
       "1  caminhão-trator                46056             7.971559\n",
       "2         caminhão                42050             7.278184\n",
       "3        camioneta                14823             2.565625"
      ]
     },
     "execution_count": 6,
     "metadata": {},
     "output_type": "execute_result"
    }
   ],
   "source": [
    "# tipos de Veiculos em Relação a base\n",
    "filtro = pd.DataFrame(df_filtro['tipo_veiculo'].value_counts())\n",
    "filtro['freq'] = (filtro['tipo_veiculo']/len(new_data))*100\n",
    "filtro = filtro.reset_index()\n",
    "filtro.columns = ['Tipo_Veiculo','Frequencia Absoluta','Frequencia Relativa']\n",
    "filtro"
   ]
  },
  {
   "cell_type": "code",
   "execution_count": 7,
   "metadata": {},
   "outputs": [
    {
     "data": {
      "text/html": [
       "<div>\n",
       "<style scoped>\n",
       "    .dataframe tbody tr th:only-of-type {\n",
       "        vertical-align: middle;\n",
       "    }\n",
       "\n",
       "    .dataframe tbody tr th {\n",
       "        vertical-align: top;\n",
       "    }\n",
       "\n",
       "    .dataframe thead th {\n",
       "        text-align: right;\n",
       "    }\n",
       "</style>\n",
       "<table border=\"1\" class=\"dataframe\">\n",
       "  <thead>\n",
       "    <tr style=\"text-align: right;\">\n",
       "      <th></th>\n",
       "      <th>id</th>\n",
       "      <th>pesid</th>\n",
       "      <th>data_inversa</th>\n",
       "      <th>dia_semana</th>\n",
       "      <th>horario</th>\n",
       "      <th>uf</th>\n",
       "      <th>br</th>\n",
       "      <th>km</th>\n",
       "      <th>municipio</th>\n",
       "      <th>causa_acidente</th>\n",
       "      <th>...</th>\n",
       "      <th>ilesos</th>\n",
       "      <th>feridos_leves</th>\n",
       "      <th>feridos_graves</th>\n",
       "      <th>mortos</th>\n",
       "      <th>latitude</th>\n",
       "      <th>longitude</th>\n",
       "      <th>regional</th>\n",
       "      <th>delegacia</th>\n",
       "      <th>uop</th>\n",
       "      <th>Base</th>\n",
       "    </tr>\n",
       "  </thead>\n",
       "  <tbody>\n",
       "    <tr>\n",
       "      <td>16</td>\n",
       "      <td>17.0</td>\n",
       "      <td>15.0</td>\n",
       "      <td>2017-01-01</td>\n",
       "      <td>domingo</td>\n",
       "      <td>01:45:00</td>\n",
       "      <td>rs</td>\n",
       "      <td>116.0</td>\n",
       "      <td>34,9</td>\n",
       "      <td>vacaria</td>\n",
       "      <td>defeito mecânico no veículo</td>\n",
       "      <td>...</td>\n",
       "      <td>1</td>\n",
       "      <td>0</td>\n",
       "      <td>0</td>\n",
       "      <td>0</td>\n",
       "      <td>-28,5071196</td>\n",
       "      <td>-50,941176</td>\n",
       "      <td>sr-rs</td>\n",
       "      <td>del9/5</td>\n",
       "      <td>uop03/rs</td>\n",
       "      <td>acidentes2017</td>\n",
       "    </tr>\n",
       "    <tr>\n",
       "      <td>25</td>\n",
       "      <td>20.0</td>\n",
       "      <td>1541.0</td>\n",
       "      <td>2017-01-01</td>\n",
       "      <td>domingo</td>\n",
       "      <td>01:00:00</td>\n",
       "      <td>pr</td>\n",
       "      <td>376.0</td>\n",
       "      <td>636</td>\n",
       "      <td>tijucas do sul</td>\n",
       "      <td>velocidade incompatível</td>\n",
       "      <td>...</td>\n",
       "      <td>1</td>\n",
       "      <td>0</td>\n",
       "      <td>0</td>\n",
       "      <td>0</td>\n",
       "      <td>-25,754</td>\n",
       "      <td>-49,1266</td>\n",
       "      <td>sr-pr</td>\n",
       "      <td>del7/1</td>\n",
       "      <td>uop08/pr</td>\n",
       "      <td>acidentes2017</td>\n",
       "    </tr>\n",
       "    <tr>\n",
       "      <td>37</td>\n",
       "      <td>28.0</td>\n",
       "      <td>1902.0</td>\n",
       "      <td>2017-01-01</td>\n",
       "      <td>domingo</td>\n",
       "      <td>01:25:00</td>\n",
       "      <td>ms</td>\n",
       "      <td>163.0</td>\n",
       "      <td>488</td>\n",
       "      <td>campo grande</td>\n",
       "      <td>restrição de visibilidade</td>\n",
       "      <td>...</td>\n",
       "      <td>0</td>\n",
       "      <td>1</td>\n",
       "      <td>0</td>\n",
       "      <td>0</td>\n",
       "      <td>-20,4311</td>\n",
       "      <td>-54,5442</td>\n",
       "      <td>sr-ms</td>\n",
       "      <td>del3/1</td>\n",
       "      <td>uop02/ms</td>\n",
       "      <td>acidentes2017</td>\n",
       "    </tr>\n",
       "    <tr>\n",
       "      <td>43</td>\n",
       "      <td>31.0</td>\n",
       "      <td>5.0</td>\n",
       "      <td>2017-01-01</td>\n",
       "      <td>domingo</td>\n",
       "      <td>01:30:00</td>\n",
       "      <td>pr</td>\n",
       "      <td>277.0</td>\n",
       "      <td>507,7</td>\n",
       "      <td>guaraniacu</td>\n",
       "      <td>ingestão de álcool</td>\n",
       "      <td>...</td>\n",
       "      <td>1</td>\n",
       "      <td>0</td>\n",
       "      <td>0</td>\n",
       "      <td>0</td>\n",
       "      <td>-25,12401148</td>\n",
       "      <td>-52,75825918</td>\n",
       "      <td>sr-pr</td>\n",
       "      <td>del7/4</td>\n",
       "      <td>uop02/pr</td>\n",
       "      <td>acidentes2017</td>\n",
       "    </tr>\n",
       "    <tr>\n",
       "      <td>82</td>\n",
       "      <td>55.0</td>\n",
       "      <td>1086.0</td>\n",
       "      <td>2017-01-01</td>\n",
       "      <td>domingo</td>\n",
       "      <td>03:30:00</td>\n",
       "      <td>pa</td>\n",
       "      <td>316.0</td>\n",
       "      <td>178</td>\n",
       "      <td>santa luzia do para</td>\n",
       "      <td>desobediência às normas de trânsito pelo condutor</td>\n",
       "      <td>...</td>\n",
       "      <td>1</td>\n",
       "      <td>0</td>\n",
       "      <td>0</td>\n",
       "      <td>0</td>\n",
       "      <td>-1,40029019</td>\n",
       "      <td>-47,01151192</td>\n",
       "      <td>sr-pa</td>\n",
       "      <td>del19/1</td>\n",
       "      <td>uop03/pa</td>\n",
       "      <td>acidentes2017</td>\n",
       "    </tr>\n",
       "  </tbody>\n",
       "</table>\n",
       "<p>5 rows × 36 columns</p>\n",
       "</div>"
      ],
      "text/plain": [
       "      id   pesid data_inversa dia_semana   horario  uf     br     km  \\\n",
       "16  17.0    15.0   2017-01-01    domingo  01:45:00  rs  116.0   34,9   \n",
       "25  20.0  1541.0   2017-01-01    domingo  01:00:00  pr  376.0    636   \n",
       "37  28.0  1902.0   2017-01-01    domingo  01:25:00  ms  163.0    488   \n",
       "43  31.0     5.0   2017-01-01    domingo  01:30:00  pr  277.0  507,7   \n",
       "82  55.0  1086.0   2017-01-01    domingo  03:30:00  pa  316.0    178   \n",
       "\n",
       "              municipio                                     causa_acidente  \\\n",
       "16              vacaria                        defeito mecânico no veículo   \n",
       "25       tijucas do sul                            velocidade incompatível   \n",
       "37         campo grande                          restrição de visibilidade   \n",
       "43           guaraniacu                                 ingestão de álcool   \n",
       "82  santa luzia do para  desobediência às normas de trânsito pelo condutor   \n",
       "\n",
       "    ... ilesos feridos_leves feridos_graves mortos      latitude  \\\n",
       "16  ...      1             0              0      0   -28,5071196   \n",
       "25  ...      1             0              0      0       -25,754   \n",
       "37  ...      0             1              0      0      -20,4311   \n",
       "43  ...      1             0              0      0  -25,12401148   \n",
       "82  ...      1             0              0      0   -1,40029019   \n",
       "\n",
       "       longitude regional delegacia       uop           Base  \n",
       "16    -50,941176    sr-rs    del9/5  uop03/rs  acidentes2017  \n",
       "25      -49,1266    sr-pr    del7/1  uop08/pr  acidentes2017  \n",
       "37      -54,5442    sr-ms    del3/1  uop02/ms  acidentes2017  \n",
       "43  -52,75825918    sr-pr    del7/4  uop02/pr  acidentes2017  \n",
       "82  -47,01151192    sr-pa   del19/1  uop03/pa  acidentes2017  \n",
       "\n",
       "[5 rows x 36 columns]"
      ]
     },
     "execution_count": 7,
     "metadata": {},
     "output_type": "execute_result"
    }
   ],
   "source": [
    "## Tamanho da base Filtrada\n",
    "df_filtro.head()"
   ]
  },
  {
   "cell_type": "markdown",
   "metadata": {},
   "source": [
    "### 5. Valores Missing"
   ]
  },
  {
   "cell_type": "code",
   "execution_count": 8,
   "metadata": {},
   "outputs": [
    {
     "data": {
      "text/plain": [
       "br                          227\n",
       "km                          227\n",
       "marca                      5359\n",
       "ano_fabricacao_veiculo     5913\n",
       "idade                     13076\n",
       "uop                        6672\n",
       "dtype: int64"
      ]
     },
     "execution_count": 8,
     "metadata": {},
     "output_type": "execute_result"
    }
   ],
   "source": [
    "df_filtro.isnull().sum()[df_filtro.isnull().sum()>0]"
   ]
  },
  {
   "cell_type": "markdown",
   "metadata": {},
   "source": [
    "### 6. Transformação e escolha das Variaveis "
   ]
  },
  {
   "cell_type": "markdown",
   "metadata": {},
   "source": [
    "#### 6.1 Transformação da variavel 'ano_fabricacao_veiculo' para condicao_veiculo"
   ]
  },
  {
   "cell_type": "code",
   "execution_count": 9,
   "metadata": {
    "scrolled": false
   },
   "outputs": [
    {
     "name": "stderr",
     "output_type": "stream",
     "text": [
      "C:\\ProgramData\\Anaconda3\\lib\\site-packages\\ipykernel_launcher.py:2: SettingWithCopyWarning: \n",
      "A value is trying to be set on a copy of a slice from a DataFrame.\n",
      "Try using .loc[row_indexer,col_indexer] = value instead\n",
      "\n",
      "See the caveats in the documentation: http://pandas.pydata.org/pandas-docs/stable/user_guide/indexing.html#returning-a-view-versus-a-copy\n",
      "  \n",
      "C:\\ProgramData\\Anaconda3\\lib\\site-packages\\ipykernel_launcher.py:4: SettingWithCopyWarning: \n",
      "A value is trying to be set on a copy of a slice from a DataFrame.\n",
      "Try using .loc[row_indexer,col_indexer] = value instead\n",
      "\n",
      "See the caveats in the documentation: http://pandas.pydata.org/pandas-docs/stable/user_guide/indexing.html#returning-a-view-versus-a-copy\n",
      "  after removing the cwd from sys.path.\n",
      "C:\\ProgramData\\Anaconda3\\lib\\site-packages\\ipykernel_launcher.py:5: SettingWithCopyWarning: \n",
      "A value is trying to be set on a copy of a slice from a DataFrame.\n",
      "Try using .loc[row_indexer,col_indexer] = value instead\n",
      "\n",
      "See the caveats in the documentation: http://pandas.pydata.org/pandas-docs/stable/user_guide/indexing.html#returning-a-view-versus-a-copy\n",
      "  \"\"\"\n",
      "C:\\ProgramData\\Anaconda3\\lib\\site-packages\\ipykernel_launcher.py:7: SettingWithCopyWarning: \n",
      "A value is trying to be set on a copy of a slice from a DataFrame.\n",
      "Try using .loc[row_indexer,col_indexer] = value instead\n",
      "\n",
      "See the caveats in the documentation: http://pandas.pydata.org/pandas-docs/stable/user_guide/indexing.html#returning-a-view-versus-a-copy\n",
      "  import sys\n",
      "C:\\ProgramData\\Anaconda3\\lib\\site-packages\\ipykernel_launcher.py:9: SettingWithCopyWarning: \n",
      "A value is trying to be set on a copy of a slice from a DataFrame.\n",
      "Try using .loc[row_indexer,col_indexer] = value instead\n",
      "\n",
      "See the caveats in the documentation: http://pandas.pydata.org/pandas-docs/stable/user_guide/indexing.html#returning-a-view-versus-a-copy\n",
      "  if __name__ == '__main__':\n",
      "C:\\ProgramData\\Anaconda3\\lib\\site-packages\\pandas\\core\\indexing.py:494: SettingWithCopyWarning: \n",
      "A value is trying to be set on a copy of a slice from a DataFrame.\n",
      "Try using .loc[row_indexer,col_indexer] = value instead\n",
      "\n",
      "See the caveats in the documentation: http://pandas.pydata.org/pandas-docs/stable/user_guide/indexing.html#returning-a-view-versus-a-copy\n",
      "  self.obj[item] = s\n"
     ]
    }
   ],
   "source": [
    "# Substituindo valores ausentes por 0\n",
    "df_filtro['ano_fabricacao_veiculo'] = df_filtro['ano_fabricacao_veiculo'].fillna(0)\n",
    "#Transformando campo para inteiro\n",
    "df_filtro['ano_fabricacao_veiculo'] = df_filtro['ano_fabricacao_veiculo'].astype(int)\n",
    "df_filtro['ano'] = df_filtro['data_inversa'].astype(str).str[0:4]\n",
    "# Definindo a idade do veiculo no periodo\n",
    "df_filtro['idade_veiculo'] = (df_filtro['data_inversa'].astype(str).str[0:4]).astype(int) - df_filtro['ano_fabricacao_veiculo']\n",
    "\n",
    "df_filtro ['condicao_veiculo'] = 'ND'\n",
    "df_filtro.loc[((df_filtro['ano_fabricacao_veiculo']!=0 ) & (df_filtro ['idade']>0)), 'condicao_veiculo'] = 'Velho'\n",
    "df_filtro.loc[((df_filtro['ano_fabricacao_veiculo']!=0 ) & (df_filtro ['idade']<0)), 'condicao_veiculo'] = 'Novo'"
   ]
  },
  {
   "cell_type": "markdown",
   "metadata": {},
   "source": [
    "#### 6.2 Unindo BR e KM para criar chave única"
   ]
  },
  {
   "cell_type": "code",
   "execution_count": 10,
   "metadata": {},
   "outputs": [],
   "source": [
    "df_filtro = df_filtro[~df_filtro.br.isnull()]"
   ]
  },
  {
   "cell_type": "code",
   "execution_count": 11,
   "metadata": {},
   "outputs": [
    {
     "data": {
      "text/plain": [
       "marca     5354\n",
       "idade    13044\n",
       "uop       6639\n",
       "dtype: int64"
      ]
     },
     "execution_count": 11,
     "metadata": {},
     "output_type": "execute_result"
    }
   ],
   "source": [
    "df_filtro.isnull().sum()[df_filtro.isnull().sum()>0]"
   ]
  },
  {
   "cell_type": "code",
   "execution_count": 12,
   "metadata": {},
   "outputs": [],
   "source": [
    "df_filtro['br'] = df_filtro['br'].astype(int)"
   ]
  },
  {
   "cell_type": "code",
   "execution_count": 13,
   "metadata": {},
   "outputs": [],
   "source": [
    "df_filtro['km'] = df_filtro['km'].str.replace(',','.')\n",
    "df_filtro['km'] = df_filtro['km'].astype(float)\n",
    "df_filtro['km'] = df_filtro['km'].astype(int)"
   ]
  },
  {
   "cell_type": "code",
   "execution_count": 14,
   "metadata": {
    "scrolled": true
   },
   "outputs": [
    {
     "data": {
      "text/plain": [
       "16     34\n",
       "25    636\n",
       "Name: km, dtype: int32"
      ]
     },
     "execution_count": 14,
     "metadata": {},
     "output_type": "execute_result"
    }
   ],
   "source": [
    "df_filtro['km'].head(2)"
   ]
  },
  {
   "cell_type": "code",
   "execution_count": 15,
   "metadata": {},
   "outputs": [],
   "source": [
    "df_filtro ['br_km'] = df_filtro['br'].astype(str)+\"_\"+df_filtro ['km'].astype(str)"
   ]
  },
  {
   "cell_type": "code",
   "execution_count": 16,
   "metadata": {
    "scrolled": true
   },
   "outputs": [
    {
     "data": {
      "text/plain": [
       "Index(['id', 'pesid', 'data_inversa', 'dia_semana', 'horario', 'uf', 'br',\n",
       "       'km', 'municipio', 'causa_acidente', 'tipo_acidente',\n",
       "       'classificacao_acidente', 'fase_dia', 'sentido_via',\n",
       "       'condicao_metereologica', 'tipo_pista', 'tracado_via', 'uso_solo',\n",
       "       'id_veiculo', 'tipo_veiculo', 'marca', 'ano_fabricacao_veiculo',\n",
       "       'tipo_envolvido', 'estado_fisico', 'idade', 'sexo', 'ilesos',\n",
       "       'feridos_leves', 'feridos_graves', 'mortos', 'latitude', 'longitude',\n",
       "       'regional', 'delegacia', 'uop', 'Base', 'ano', 'idade_veiculo',\n",
       "       'condicao_veiculo', 'br_km'],\n",
       "      dtype='object')"
      ]
     },
     "execution_count": 16,
     "metadata": {},
     "output_type": "execute_result"
    }
   ],
   "source": [
    "#Colunas\n",
    "df_filtro.columns"
   ]
  },
  {
   "cell_type": "markdown",
   "metadata": {},
   "source": [
    "#### 6.1 Variaveis escolhidas como índices, ou seja que identificam o local do ponto de parada"
   ]
  },
  {
   "cell_type": "code",
   "execution_count": 17,
   "metadata": {},
   "outputs": [],
   "source": [
    "indices = ['uf', 'municipio','br_km','latitude', 'longitude','regional', 'delegacia', 'uop']"
   ]
  },
  {
   "cell_type": "code",
   "execution_count": 18,
   "metadata": {},
   "outputs": [],
   "source": [
    "chave_primária = ['br_km']"
   ]
  },
  {
   "cell_type": "code",
   "execution_count": 19,
   "metadata": {},
   "outputs": [],
   "source": [
    "variaveis = ['ano','dia_semana','tipo_acidente','classificacao_acidente','fase_dia','sentido_via','condicao_metereologica','tipo_pista','tipo_envolvido','tracado_via','uso_solo']"
   ]
  },
  {
   "cell_type": "code",
   "execution_count": 20,
   "metadata": {},
   "outputs": [],
   "source": [
    "colunas = chave_primária + variaveis"
   ]
  },
  {
   "cell_type": "code",
   "execution_count": 21,
   "metadata": {
    "scrolled": true
   },
   "outputs": [],
   "source": [
    "df_prep = df_filtro[colunas].set_index(['br_km'])"
   ]
  },
  {
   "cell_type": "code",
   "execution_count": 22,
   "metadata": {},
   "outputs": [
    {
     "data": {
      "text/html": [
       "<div>\n",
       "<style scoped>\n",
       "    .dataframe tbody tr th:only-of-type {\n",
       "        vertical-align: middle;\n",
       "    }\n",
       "\n",
       "    .dataframe tbody tr th {\n",
       "        vertical-align: top;\n",
       "    }\n",
       "\n",
       "    .dataframe thead th {\n",
       "        text-align: right;\n",
       "    }\n",
       "</style>\n",
       "<table border=\"1\" class=\"dataframe\">\n",
       "  <thead>\n",
       "    <tr style=\"text-align: right;\">\n",
       "      <th></th>\n",
       "      <th>ano</th>\n",
       "      <th>dia_semana</th>\n",
       "      <th>tipo_acidente</th>\n",
       "      <th>classificacao_acidente</th>\n",
       "      <th>fase_dia</th>\n",
       "      <th>sentido_via</th>\n",
       "      <th>condicao_metereologica</th>\n",
       "      <th>tipo_pista</th>\n",
       "      <th>tipo_envolvido</th>\n",
       "      <th>tracado_via</th>\n",
       "      <th>uso_solo</th>\n",
       "    </tr>\n",
       "    <tr>\n",
       "      <th>br_km</th>\n",
       "      <th></th>\n",
       "      <th></th>\n",
       "      <th></th>\n",
       "      <th></th>\n",
       "      <th></th>\n",
       "      <th></th>\n",
       "      <th></th>\n",
       "      <th></th>\n",
       "      <th></th>\n",
       "      <th></th>\n",
       "      <th></th>\n",
       "    </tr>\n",
       "  </thead>\n",
       "  <tbody>\n",
       "    <tr>\n",
       "      <td>116_34</td>\n",
       "      <td>2017</td>\n",
       "      <td>domingo</td>\n",
       "      <td>colisão traseira</td>\n",
       "      <td>com vítimas feridas</td>\n",
       "      <td>plena noite</td>\n",
       "      <td>decrescente</td>\n",
       "      <td>céu claro</td>\n",
       "      <td>simples</td>\n",
       "      <td>condutor</td>\n",
       "      <td>reta</td>\n",
       "      <td>não</td>\n",
       "    </tr>\n",
       "    <tr>\n",
       "      <td>376_636</td>\n",
       "      <td>2017</td>\n",
       "      <td>domingo</td>\n",
       "      <td>saída de leito carroçável</td>\n",
       "      <td>com vítimas fatais</td>\n",
       "      <td>plena noite</td>\n",
       "      <td>crescente</td>\n",
       "      <td>garoa/chuvisco</td>\n",
       "      <td>dupla</td>\n",
       "      <td>condutor</td>\n",
       "      <td>curva</td>\n",
       "      <td>não</td>\n",
       "    </tr>\n",
       "  </tbody>\n",
       "</table>\n",
       "</div>"
      ],
      "text/plain": [
       "          ano dia_semana              tipo_acidente classificacao_acidente  \\\n",
       "br_km                                                                        \n",
       "116_34   2017    domingo           colisão traseira    com vítimas feridas   \n",
       "376_636  2017    domingo  saída de leito carroçável     com vítimas fatais   \n",
       "\n",
       "            fase_dia  sentido_via condicao_metereologica tipo_pista  \\\n",
       "br_km                                                                 \n",
       "116_34   plena noite  decrescente              céu claro    simples   \n",
       "376_636  plena noite    crescente         garoa/chuvisco      dupla   \n",
       "\n",
       "        tipo_envolvido tracado_via uso_solo  \n",
       "br_km                                        \n",
       "116_34        condutor        reta      não  \n",
       "376_636       condutor       curva      não  "
      ]
     },
     "execution_count": 22,
     "metadata": {},
     "output_type": "execute_result"
    }
   ],
   "source": [
    "df_prep.head(2)"
   ]
  },
  {
   "cell_type": "code",
   "execution_count": 23,
   "metadata": {},
   "outputs": [
    {
     "data": {
      "text/plain": [
       "ano                       0\n",
       "dia_semana                0\n",
       "tipo_acidente             0\n",
       "classificacao_acidente    0\n",
       "fase_dia                  0\n",
       "sentido_via               0\n",
       "condicao_metereologica    0\n",
       "tipo_pista                0\n",
       "tipo_envolvido            0\n",
       "tracado_via               0\n",
       "uso_solo                  0\n",
       "dtype: int64"
      ]
     },
     "execution_count": 23,
     "metadata": {},
     "output_type": "execute_result"
    }
   ],
   "source": [
    "df_prep.isnull().sum()"
   ]
  },
  {
   "cell_type": "markdown",
   "metadata": {},
   "source": [
    "### 7. Análises Descritivas da Base (EDA) "
   ]
  },
  {
   "cell_type": "markdown",
   "metadata": {},
   "source": [
    "#### 7.1 Estado físico"
   ]
  },
  {
   "cell_type": "code",
   "execution_count": 24,
   "metadata": {},
   "outputs": [
    {
     "data": {
      "text/plain": [
       "ileso            97834\n",
       "lesões leves     34575\n",
       "lesões graves     9104\n",
       "não informado     8791\n",
       "óbito             4290\n",
       "Name: estado_fisico, dtype: int64"
      ]
     },
     "execution_count": 24,
     "metadata": {},
     "output_type": "execute_result"
    }
   ],
   "source": [
    "df_filtro['estado_fisico'].value_counts()"
   ]
  },
  {
   "cell_type": "code",
   "execution_count": 25,
   "metadata": {},
   "outputs": [
    {
     "data": {
      "text/plain": [
       "<matplotlib.axes._subplots.AxesSubplot at 0x21ce4fe7a88>"
      ]
     },
     "execution_count": 25,
     "metadata": {},
     "output_type": "execute_result"
    },
    {
     "data": {
      "image/png": "[encoded data removed]",
      "text/plain": [
       "<Figure size 432x288 with 1 Axes>"
      ]
     },
     "metadata": {
      "needs_background": "light"
     },
     "output_type": "display_data"
    }
   ],
   "source": [
    "df_filtro['estado_fisico'].hist()"
   ]
  },
  {
   "cell_type": "markdown",
   "metadata": {},
   "source": [
    "#### 7.2 Envolvidos"
   ]
  },
  {
   "cell_type": "code",
   "execution_count": 26,
   "metadata": {},
   "outputs": [
    {
     "data": {
      "text/plain": [
       "condutor      121107\n",
       "passageiro     26941\n",
       "testemunha      3554\n",
       "pedestre        2934\n",
       "cavaleiro         58\n",
       "Name: tipo_envolvido, dtype: int64"
      ]
     },
     "execution_count": 26,
     "metadata": {},
     "output_type": "execute_result"
    }
   ],
   "source": [
    "df_filtro['tipo_envolvido'].value_counts()"
   ]
  },
  {
   "cell_type": "code",
   "execution_count": 27,
   "metadata": {
    "scrolled": true
   },
   "outputs": [
    {
     "data": {
      "text/plain": [
       "<matplotlib.axes._subplots.AxesSubplot at 0x21cd5f41988>"
      ]
     },
     "execution_count": 27,
     "metadata": {},
     "output_type": "execute_result"
    },
    {
     "data": {
      "image/png": "[encoded data removed]",
      "text/plain": [
       "<Figure size 432x288 with 1 Axes>"
      ]
     },
     "metadata": {
      "needs_background": "light"
     },
     "output_type": "display_data"
    }
   ],
   "source": [
    "df_filtro['tipo_envolvido'].hist()"
   ]
  },
  {
   "cell_type": "markdown",
   "metadata": {},
   "source": [
    "#### 7.3 Classificação do Acidente"
   ]
  },
  {
   "cell_type": "code",
   "execution_count": 28,
   "metadata": {},
   "outputs": [
    {
     "data": {
      "text/plain": [
       "com vítimas feridas    93512\n",
       "sem vítimas            44929\n",
       "com vítimas fatais     16153\n",
       "Name: classificacao_acidente, dtype: int64"
      ]
     },
     "execution_count": 28,
     "metadata": {},
     "output_type": "execute_result"
    }
   ],
   "source": [
    "df_filtro['classificacao_acidente'].value_counts()"
   ]
  },
  {
   "cell_type": "code",
   "execution_count": 29,
   "metadata": {
    "scrolled": true
   },
   "outputs": [
    {
     "data": {
      "text/plain": [
       "<matplotlib.axes._subplots.AxesSubplot at 0x21cd5f98988>"
      ]
     },
     "execution_count": 29,
     "metadata": {},
     "output_type": "execute_result"
    },
    {
     "data": {
      "image/png": "[encoded data removed]",
      "text/plain": [
       "<Figure size 432x288 with 1 Axes>"
      ]
     },
     "metadata": {
      "needs_background": "light"
     },
     "output_type": "display_data"
    }
   ],
   "source": [
    "df_filtro['classificacao_acidente'].hist()"
   ]
  },
  {
   "cell_type": "markdown",
   "metadata": {},
   "source": [
    "#### 7.4 Tipo do Acidente"
   ]
  },
  {
   "cell_type": "code",
   "execution_count": 30,
   "metadata": {},
   "outputs": [
    {
     "data": {
      "text/plain": [
       "colisão traseira                   36202\n",
       "saída de leito carroçável          21728\n",
       "colisão lateral                    21639\n",
       "colisão transversal                16497\n",
       "colisão frontal                    14968\n",
       "tombamento                         12077\n",
       "colisão com objeto estático         7726\n",
       "atropelamento de pedestre           6304\n",
       "capotamento                         5177\n",
       "engavetamento                       4892\n",
       "incêndio                            2213\n",
       "atropelamento de animal             1827\n",
       "colisão com objeto em movimento     1014\n",
       "derramamento de carga               1005\n",
       "queda de ocupante de veículo         694\n",
       "danos eventuais                      631\n",
       "Name: tipo_acidente, dtype: int64"
      ]
     },
     "execution_count": 30,
     "metadata": {},
     "output_type": "execute_result"
    }
   ],
   "source": [
    "df_filtro['tipo_acidente'].value_counts()"
   ]
  },
  {
   "cell_type": "code",
   "execution_count": 31,
   "metadata": {},
   "outputs": [
    {
     "data": {
      "text/plain": [
       "<matplotlib.axes._subplots.AxesSubplot at 0x21cd600d7c8>"
      ]
     },
     "execution_count": 31,
     "metadata": {},
     "output_type": "execute_result"
    },
    {
     "data": {
      "image/png": "[encoded data removed]",
      "text/plain": [
       "<Figure size 432x288 with 1 Axes>"
      ]
     },
     "metadata": {
      "needs_background": "light"
     },
     "output_type": "display_data"
    }
   ],
   "source": [
    "df_filtro['tipo_acidente'].hist()"
   ]
  },
  {
   "cell_type": "markdown",
   "metadata": {},
   "source": [
    "#### 7.5 Causa do Acidente"
   ]
  },
  {
   "cell_type": "code",
   "execution_count": 32,
   "metadata": {},
   "outputs": [
    {
     "data": {
      "text/plain": [
       "falta de atenção à condução                                                       55020\n",
       "velocidade incompatível                                                           17550\n",
       "desobediência às normas de trânsito pelo condutor                                 13276\n",
       "não guardar distância de segurança                                                11126\n",
       "defeito mecânico no veículo                                                       10446\n",
       "ingestão de álcool                                                                 8099\n",
       "condutor dormindo                                                                  7966\n",
       "pista escorregadia                                                                 5929\n",
       "ultrapassagem indevida                                                             5020\n",
       "falta de atenção do pedestre                                                       4100\n",
       "animais na pista                                                                   2587\n",
       "defeito na via                                                                     2382\n",
       "avarias e/ou desgaste excessivo no pneu                                            1720\n",
       "carga excessiva e/ou mal acondicionada                                             1516\n",
       "mal súbito                                                                         1508\n",
       "restrição de visibilidade                                                          1485\n",
       "objeto estático sobre o leito carroçável                                           1187\n",
       "sinalização da via insuficiente ou inadequada                                       843\n",
       "fenômenos da natureza                                                               733\n",
       "desobediência às normas de trânsito pelo pedestre                                   539\n",
       "deficiência ou não acionamento do sistema de iluminação/sinalização do veículo      505\n",
       "agressão externa                                                                    456\n",
       "ingestão de álcool e/ou substâncias psicoativas pelo pedestre                       429\n",
       "ingestão de substâncias psicoativas                                                 172\n",
       "Name: causa_acidente, dtype: int64"
      ]
     },
     "execution_count": 32,
     "metadata": {},
     "output_type": "execute_result"
    }
   ],
   "source": [
    "df_filtro['causa_acidente'].value_counts()"
   ]
  },
  {
   "cell_type": "code",
   "execution_count": 33,
   "metadata": {},
   "outputs": [
    {
     "data": {
      "text/plain": [
       "<matplotlib.axes._subplots.AxesSubplot at 0x21cd6324bc8>"
      ]
     },
     "execution_count": 33,
     "metadata": {},
     "output_type": "execute_result"
    },
    {
     "data": {
      "image/png": "[encoded data removed]",
      "text/plain": [
       "<Figure size 432x288 with 1 Axes>"
      ]
     },
     "metadata": {
      "needs_background": "light"
     },
     "output_type": "display_data"
    }
   ],
   "source": [
    "df_filtro['causa_acidente'].hist()"
   ]
  },
  {
   "cell_type": "markdown",
   "metadata": {},
   "source": [
    "#### 7.5 Causa do Acidente"
   ]
  },
  {
   "cell_type": "code",
   "execution_count": 34,
   "metadata": {},
   "outputs": [
    {
     "data": {
      "text/html": [
       "<div>\n",
       "<style scoped>\n",
       "    .dataframe tbody tr th:only-of-type {\n",
       "        vertical-align: middle;\n",
       "    }\n",
       "\n",
       "    .dataframe tbody tr th {\n",
       "        vertical-align: top;\n",
       "    }\n",
       "\n",
       "    .dataframe thead th {\n",
       "        text-align: right;\n",
       "    }\n",
       "</style>\n",
       "<table border=\"1\" class=\"dataframe\">\n",
       "  <thead>\n",
       "    <tr style=\"text-align: right;\">\n",
       "      <th></th>\n",
       "      <th>id</th>\n",
       "      <th>pesid</th>\n",
       "      <th>br</th>\n",
       "      <th>km</th>\n",
       "      <th>id_veiculo</th>\n",
       "      <th>ano_fabricacao_veiculo</th>\n",
       "      <th>idade</th>\n",
       "      <th>ilesos</th>\n",
       "      <th>feridos_leves</th>\n",
       "      <th>feridos_graves</th>\n",
       "      <th>mortos</th>\n",
       "      <th>idade_veiculo</th>\n",
       "    </tr>\n",
       "  </thead>\n",
       "  <tbody>\n",
       "    <tr>\n",
       "      <td>id</td>\n",
       "      <td>1.000000</td>\n",
       "      <td>0.999875</td>\n",
       "      <td>0.006640</td>\n",
       "      <td>-0.012192</td>\n",
       "      <td>0.999976</td>\n",
       "      <td>-0.015736</td>\n",
       "      <td>-0.003003</td>\n",
       "      <td>-0.087666</td>\n",
       "      <td>0.051995</td>\n",
       "      <td>0.036165</td>\n",
       "      <td>0.017594</td>\n",
       "      <td>0.018122</td>\n",
       "    </tr>\n",
       "    <tr>\n",
       "      <td>pesid</td>\n",
       "      <td>0.999875</td>\n",
       "      <td>1.000000</td>\n",
       "      <td>0.006486</td>\n",
       "      <td>-0.012323</td>\n",
       "      <td>0.999912</td>\n",
       "      <td>-0.015976</td>\n",
       "      <td>-0.002959</td>\n",
       "      <td>-0.087661</td>\n",
       "      <td>0.051964</td>\n",
       "      <td>0.036142</td>\n",
       "      <td>0.017111</td>\n",
       "      <td>0.018368</td>\n",
       "    </tr>\n",
       "    <tr>\n",
       "      <td>br</td>\n",
       "      <td>0.006640</td>\n",
       "      <td>0.006486</td>\n",
       "      <td>1.000000</td>\n",
       "      <td>0.048299</td>\n",
       "      <td>0.006554</td>\n",
       "      <td>0.012053</td>\n",
       "      <td>0.000239</td>\n",
       "      <td>-0.006293</td>\n",
       "      <td>0.006604</td>\n",
       "      <td>0.002237</td>\n",
       "      <td>0.002159</td>\n",
       "      <td>-0.012035</td>\n",
       "    </tr>\n",
       "    <tr>\n",
       "      <td>km</td>\n",
       "      <td>-0.012192</td>\n",
       "      <td>-0.012323</td>\n",
       "      <td>0.048299</td>\n",
       "      <td>1.000000</td>\n",
       "      <td>-0.012231</td>\n",
       "      <td>0.027003</td>\n",
       "      <td>-0.004540</td>\n",
       "      <td>-0.033074</td>\n",
       "      <td>0.033577</td>\n",
       "      <td>0.007047</td>\n",
       "      <td>0.013028</td>\n",
       "      <td>-0.027029</td>\n",
       "    </tr>\n",
       "    <tr>\n",
       "      <td>id_veiculo</td>\n",
       "      <td>0.999976</td>\n",
       "      <td>0.999912</td>\n",
       "      <td>0.006554</td>\n",
       "      <td>-0.012231</td>\n",
       "      <td>1.000000</td>\n",
       "      <td>-0.016152</td>\n",
       "      <td>-0.002998</td>\n",
       "      <td>-0.087689</td>\n",
       "      <td>0.051926</td>\n",
       "      <td>0.036137</td>\n",
       "      <td>0.017529</td>\n",
       "      <td>0.018539</td>\n",
       "    </tr>\n",
       "    <tr>\n",
       "      <td>ano_fabricacao_veiculo</td>\n",
       "      <td>-0.015736</td>\n",
       "      <td>-0.015976</td>\n",
       "      <td>0.012053</td>\n",
       "      <td>0.027003</td>\n",
       "      <td>-0.016152</td>\n",
       "      <td>1.000000</td>\n",
       "      <td>-0.006575</td>\n",
       "      <td>0.138535</td>\n",
       "      <td>0.092113</td>\n",
       "      <td>0.022277</td>\n",
       "      <td>-0.026944</td>\n",
       "      <td>-0.999997</td>\n",
       "    </tr>\n",
       "    <tr>\n",
       "      <td>idade</td>\n",
       "      <td>-0.003003</td>\n",
       "      <td>-0.002959</td>\n",
       "      <td>0.000239</td>\n",
       "      <td>-0.004540</td>\n",
       "      <td>-0.002998</td>\n",
       "      <td>-0.006575</td>\n",
       "      <td>1.000000</td>\n",
       "      <td>-0.005587</td>\n",
       "      <td>-0.002801</td>\n",
       "      <td>0.012129</td>\n",
       "      <td>0.005339</td>\n",
       "      <td>0.006564</td>\n",
       "    </tr>\n",
       "    <tr>\n",
       "      <td>ilesos</td>\n",
       "      <td>-0.087666</td>\n",
       "      <td>-0.087661</td>\n",
       "      <td>-0.006293</td>\n",
       "      <td>-0.033074</td>\n",
       "      <td>-0.087689</td>\n",
       "      <td>0.138535</td>\n",
       "      <td>-0.005587</td>\n",
       "      <td>1.000000</td>\n",
       "      <td>-0.704660</td>\n",
       "      <td>-0.328415</td>\n",
       "      <td>-0.221803</td>\n",
       "      <td>-0.138738</td>\n",
       "    </tr>\n",
       "    <tr>\n",
       "      <td>feridos_leves</td>\n",
       "      <td>0.051995</td>\n",
       "      <td>0.051964</td>\n",
       "      <td>0.006604</td>\n",
       "      <td>0.033577</td>\n",
       "      <td>0.051926</td>\n",
       "      <td>0.092113</td>\n",
       "      <td>-0.002801</td>\n",
       "      <td>-0.704660</td>\n",
       "      <td>1.000000</td>\n",
       "      <td>-0.134263</td>\n",
       "      <td>-0.090677</td>\n",
       "      <td>-0.091981</td>\n",
       "    </tr>\n",
       "    <tr>\n",
       "      <td>feridos_graves</td>\n",
       "      <td>0.036165</td>\n",
       "      <td>0.036142</td>\n",
       "      <td>0.002237</td>\n",
       "      <td>0.007047</td>\n",
       "      <td>0.036137</td>\n",
       "      <td>0.022277</td>\n",
       "      <td>0.012129</td>\n",
       "      <td>-0.328415</td>\n",
       "      <td>-0.134263</td>\n",
       "      <td>1.000000</td>\n",
       "      <td>-0.042261</td>\n",
       "      <td>-0.022197</td>\n",
       "    </tr>\n",
       "    <tr>\n",
       "      <td>mortos</td>\n",
       "      <td>0.017594</td>\n",
       "      <td>0.017111</td>\n",
       "      <td>0.002159</td>\n",
       "      <td>0.013028</td>\n",
       "      <td>0.017529</td>\n",
       "      <td>-0.026944</td>\n",
       "      <td>0.005339</td>\n",
       "      <td>-0.221803</td>\n",
       "      <td>-0.090677</td>\n",
       "      <td>-0.042261</td>\n",
       "      <td>1.000000</td>\n",
       "      <td>0.026985</td>\n",
       "    </tr>\n",
       "    <tr>\n",
       "      <td>idade_veiculo</td>\n",
       "      <td>0.018122</td>\n",
       "      <td>0.018368</td>\n",
       "      <td>-0.012035</td>\n",
       "      <td>-0.027029</td>\n",
       "      <td>0.018539</td>\n",
       "      <td>-0.999997</td>\n",
       "      <td>0.006564</td>\n",
       "      <td>-0.138738</td>\n",
       "      <td>-0.091981</td>\n",
       "      <td>-0.022197</td>\n",
       "      <td>0.026985</td>\n",
       "      <td>1.000000</td>\n",
       "    </tr>\n",
       "  </tbody>\n",
       "</table>\n",
       "</div>"
      ],
      "text/plain": [
       "                              id     pesid        br        km  id_veiculo  \\\n",
       "id                      1.000000  0.999875  0.006640 -0.012192    0.999976   \n",
       "pesid                   0.999875  1.000000  0.006486 -0.012323    0.999912   \n",
       "br                      0.006640  0.006486  1.000000  0.048299    0.006554   \n",
       "km                     -0.012192 -0.012323  0.048299  1.000000   -0.012231   \n",
       "id_veiculo              0.999976  0.999912  0.006554 -0.012231    1.000000   \n",
       "ano_fabricacao_veiculo -0.015736 -0.015976  0.012053  0.027003   -0.016152   \n",
       "idade                  -0.003003 -0.002959  0.000239 -0.004540   -0.002998   \n",
       "ilesos                 -0.087666 -0.087661 -0.006293 -0.033074   -0.087689   \n",
       "feridos_leves           0.051995  0.051964  0.006604  0.033577    0.051926   \n",
       "feridos_graves          0.036165  0.036142  0.002237  0.007047    0.036137   \n",
       "mortos                  0.017594  0.017111  0.002159  0.013028    0.017529   \n",
       "idade_veiculo           0.018122  0.018368 -0.012035 -0.027029    0.018539   \n",
       "\n",
       "                        ano_fabricacao_veiculo     idade    ilesos  \\\n",
       "id                                   -0.015736 -0.003003 -0.087666   \n",
       "pesid                                -0.015976 -0.002959 -0.087661   \n",
       "br                                    0.012053  0.000239 -0.006293   \n",
       "km                                    0.027003 -0.004540 -0.033074   \n",
       "id_veiculo                           -0.016152 -0.002998 -0.087689   \n",
       "ano_fabricacao_veiculo                1.000000 -0.006575  0.138535   \n",
       "idade                                -0.006575  1.000000 -0.005587   \n",
       "ilesos                                0.138535 -0.005587  1.000000   \n",
       "feridos_leves                         0.092113 -0.002801 -0.704660   \n",
       "feridos_graves                        0.022277  0.012129 -0.328415   \n",
       "mortos                               -0.026944  0.005339 -0.221803   \n",
       "idade_veiculo                        -0.999997  0.006564 -0.138738   \n",
       "\n",
       "                        feridos_leves  feridos_graves    mortos  idade_veiculo  \n",
       "id                           0.051995        0.036165  0.017594       0.018122  \n",
       "pesid                        0.051964        0.036142  0.017111       0.018368  \n",
       "br                           0.006604        0.002237  0.002159      -0.012035  \n",
       "km                           0.033577        0.007047  0.013028      -0.027029  \n",
       "id_veiculo                   0.051926        0.036137  0.017529       0.018539  \n",
       "ano_fabricacao_veiculo       0.092113        0.022277 -0.026944      -0.999997  \n",
       "idade                       -0.002801        0.012129  0.005339       0.006564  \n",
       "ilesos                      -0.704660       -0.328415 -0.221803      -0.138738  \n",
       "feridos_leves                1.000000       -0.134263 -0.090677      -0.091981  \n",
       "feridos_graves              -0.134263        1.000000 -0.042261      -0.022197  \n",
       "mortos                      -0.090677       -0.042261  1.000000       0.026985  \n",
       "idade_veiculo               -0.091981       -0.022197  0.026985       1.000000  "
      ]
     },
     "execution_count": 34,
     "metadata": {},
     "output_type": "execute_result"
    }
   ],
   "source": [
    "corr = df_filtro.corr()\n",
    "corr"
   ]
  },
  {
   "cell_type": "code",
   "execution_count": 35,
   "metadata": {},
   "outputs": [
    {
     "data": {
      "text/plain": [
       "<matplotlib.axes._subplots.AxesSubplot at 0x21ce43f1688>"
      ]
     },
     "execution_count": 35,
     "metadata": {},
     "output_type": "execute_result"
    },
    {
     "data": {
      "image/png": "[encoded data removed]",
      "text/plain": [
       "<Figure size 432x288 with 2 Axes>"
      ]
     },
     "metadata": {
      "needs_background": "light"
     },
     "output_type": "display_data"
    }
   ],
   "source": [
    "sns.heatmap(corr)"
   ]
  },
  {
   "cell_type": "markdown",
   "metadata": {},
   "source": [
    "### 8. Export da Base"
   ]
  },
  {
   "cell_type": "code",
   "execution_count": 36,
   "metadata": {},
   "outputs": [],
   "source": [
    "df_prep.to_csv('resultados/base_acidentes_prep.csv',index=False)"
   ]
  },
  {
   "cell_type": "code",
   "execution_count": null,
   "metadata": {},
   "outputs": [],
   "source": []
  }
 ],
 "metadata": {
  "kernelspec": {
   "display_name": "Python 3",
   "language": "python",
   "name": "python3"
  },
  "language_info": {
   "codemirror_mode": {
    "name": "ipython",
    "version": 3
   },
   "file_extension": ".py",
   "mimetype": "text/x-python",
   "name": "python",
   "nbconvert_exporter": "python",
   "pygments_lexer": "ipython3",
   "version": "3.7.4"
  }
 },
 "nbformat": 4,
 "nbformat_minor": 2
}
