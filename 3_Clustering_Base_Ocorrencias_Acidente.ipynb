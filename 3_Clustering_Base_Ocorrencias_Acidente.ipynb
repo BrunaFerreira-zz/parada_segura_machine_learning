{
 "cells": [
  {
   "cell_type": "markdown",
   "metadata": {},
   "source": [
    "<span style=\"font-family: calibre;font-size:2.5em\">Objetivo </span>\n",
    "<p style=\"font-family: calibre;font-size:1.5em\"> Segmentar regiões (BR_KM) onde mais acontecem acidentes com Caminhoneiros e o nível de gravidade </p>"
   ]
  },
  {
   "cell_type": "code",
   "execution_count": 72,
   "metadata": {},
   "outputs": [],
   "source": [
    "import pandas as pd\n",
    "from sklearn.cluster import KMeans\n",
    "import matplotlib.pyplot as plt\n",
    "import seaborn as sns\n",
    "from sklearn.linear_model import LinearRegression\n",
    "import math\n",
    "from scipy import stats\n",
    "%matplotlib inline"
   ]
  },
  {
   "cell_type": "markdown",
   "metadata": {},
   "source": [
    "## 1. Import da base de acidentes tratada anteriormente."
   ]
  },
  {
   "cell_type": "code",
   "execution_count": 73,
   "metadata": {},
   "outputs": [],
   "source": [
    "df = pd.read_csv('resultados/base_acidentes_prep.csv')"
   ]
  },
  {
   "cell_type": "code",
   "execution_count": 74,
   "metadata": {},
   "outputs": [
    {
     "data": {
      "text/html": [
       "<div>\n",
       "<style scoped>\n",
       "    .dataframe tbody tr th:only-of-type {\n",
       "        vertical-align: middle;\n",
       "    }\n",
       "\n",
       "    .dataframe tbody tr th {\n",
       "        vertical-align: top;\n",
       "    }\n",
       "\n",
       "    .dataframe thead th {\n",
       "        text-align: right;\n",
       "    }\n",
       "</style>\n",
       "<table border=\"1\" class=\"dataframe\">\n",
       "  <thead>\n",
       "    <tr style=\"text-align: right;\">\n",
       "      <th></th>\n",
       "      <th>br_km</th>\n",
       "      <th>ano</th>\n",
       "      <th>dia_semana</th>\n",
       "      <th>tipo_acidente</th>\n",
       "      <th>classificacao_acidente</th>\n",
       "      <th>fase_dia</th>\n",
       "      <th>sentido_via</th>\n",
       "      <th>condicao_metereologica</th>\n",
       "      <th>tipo_pista</th>\n",
       "      <th>tipo_envolvido</th>\n",
       "      <th>tracado_via</th>\n",
       "      <th>uso_solo</th>\n",
       "    </tr>\n",
       "  </thead>\n",
       "  <tbody>\n",
       "    <tr>\n",
       "      <td>0</td>\n",
       "      <td>116_34</td>\n",
       "      <td>2017</td>\n",
       "      <td>domingo</td>\n",
       "      <td>colisão traseira</td>\n",
       "      <td>com vítimas feridas</td>\n",
       "      <td>plena noite</td>\n",
       "      <td>decrescente</td>\n",
       "      <td>céu claro</td>\n",
       "      <td>simples</td>\n",
       "      <td>condutor</td>\n",
       "      <td>reta</td>\n",
       "      <td>não</td>\n",
       "    </tr>\n",
       "    <tr>\n",
       "      <td>1</td>\n",
       "      <td>376_636</td>\n",
       "      <td>2017</td>\n",
       "      <td>domingo</td>\n",
       "      <td>saída de leito carroçável</td>\n",
       "      <td>com vítimas fatais</td>\n",
       "      <td>plena noite</td>\n",
       "      <td>crescente</td>\n",
       "      <td>garoa/chuvisco</td>\n",
       "      <td>dupla</td>\n",
       "      <td>condutor</td>\n",
       "      <td>curva</td>\n",
       "      <td>não</td>\n",
       "    </tr>\n",
       "    <tr>\n",
       "      <td>2</td>\n",
       "      <td>163_488</td>\n",
       "      <td>2017</td>\n",
       "      <td>domingo</td>\n",
       "      <td>saída de leito carroçável</td>\n",
       "      <td>com vítimas feridas</td>\n",
       "      <td>plena noite</td>\n",
       "      <td>decrescente</td>\n",
       "      <td>céu claro</td>\n",
       "      <td>simples</td>\n",
       "      <td>condutor</td>\n",
       "      <td>reta</td>\n",
       "      <td>sim</td>\n",
       "    </tr>\n",
       "    <tr>\n",
       "      <td>3</td>\n",
       "      <td>277_507</td>\n",
       "      <td>2017</td>\n",
       "      <td>domingo</td>\n",
       "      <td>saída de leito carroçável</td>\n",
       "      <td>sem vítimas</td>\n",
       "      <td>plena noite</td>\n",
       "      <td>decrescente</td>\n",
       "      <td>nublado</td>\n",
       "      <td>simples</td>\n",
       "      <td>condutor</td>\n",
       "      <td>reta</td>\n",
       "      <td>não</td>\n",
       "    </tr>\n",
       "    <tr>\n",
       "      <td>4</td>\n",
       "      <td>316_178</td>\n",
       "      <td>2017</td>\n",
       "      <td>domingo</td>\n",
       "      <td>colisão frontal</td>\n",
       "      <td>com vítimas fatais</td>\n",
       "      <td>plena noite</td>\n",
       "      <td>crescente</td>\n",
       "      <td>nevoeiro/neblina</td>\n",
       "      <td>simples</td>\n",
       "      <td>condutor</td>\n",
       "      <td>não informado</td>\n",
       "      <td>não</td>\n",
       "    </tr>\n",
       "  </tbody>\n",
       "</table>\n",
       "</div>"
      ],
      "text/plain": [
       "     br_km   ano dia_semana              tipo_acidente classificacao_acidente  \\\n",
       "0   116_34  2017    domingo           colisão traseira    com vítimas feridas   \n",
       "1  376_636  2017    domingo  saída de leito carroçável     com vítimas fatais   \n",
       "2  163_488  2017    domingo  saída de leito carroçável    com vítimas feridas   \n",
       "3  277_507  2017    domingo  saída de leito carroçável            sem vítimas   \n",
       "4  316_178  2017    domingo            colisão frontal     com vítimas fatais   \n",
       "\n",
       "      fase_dia  sentido_via condicao_metereologica tipo_pista tipo_envolvido  \\\n",
       "0  plena noite  decrescente              céu claro    simples       condutor   \n",
       "1  plena noite    crescente         garoa/chuvisco      dupla       condutor   \n",
       "2  plena noite  decrescente              céu claro    simples       condutor   \n",
       "3  plena noite  decrescente                nublado    simples       condutor   \n",
       "4  plena noite    crescente       nevoeiro/neblina    simples       condutor   \n",
       "\n",
       "     tracado_via uso_solo  \n",
       "0           reta      não  \n",
       "1          curva      não  \n",
       "2           reta      sim  \n",
       "3           reta      não  \n",
       "4  não informado      não  "
      ]
     },
     "execution_count": 74,
     "metadata": {},
     "output_type": "execute_result"
    }
   ],
   "source": [
    "df.head()"
   ]
  },
  {
   "cell_type": "code",
   "execution_count": 75,
   "metadata": {},
   "outputs": [],
   "source": [
    "df = df.set_index(['br_km','ano'])"
   ]
  },
  {
   "cell_type": "markdown",
   "metadata": {},
   "source": [
    "## 2. Transformando variaveis em dummies"
   ]
  },
  {
   "cell_type": "code",
   "execution_count": 76,
   "metadata": {},
   "outputs": [],
   "source": [
    "df_dummies = pd.get_dummies(df)"
   ]
  },
  {
   "cell_type": "code",
   "execution_count": 77,
   "metadata": {},
   "outputs": [
    {
     "data": {
      "text/html": [
       "<div>\n",
       "<style scoped>\n",
       "    .dataframe tbody tr th:only-of-type {\n",
       "        vertical-align: middle;\n",
       "    }\n",
       "\n",
       "    .dataframe tbody tr th {\n",
       "        vertical-align: top;\n",
       "    }\n",
       "\n",
       "    .dataframe thead th {\n",
       "        text-align: right;\n",
       "    }\n",
       "</style>\n",
       "<table border=\"1\" class=\"dataframe\">\n",
       "  <thead>\n",
       "    <tr style=\"text-align: right;\">\n",
       "      <th></th>\n",
       "      <th></th>\n",
       "      <th>dia_semana_domingo</th>\n",
       "      <th>dia_semana_quarta-feira</th>\n",
       "      <th>dia_semana_quinta-feira</th>\n",
       "      <th>dia_semana_segunda-feira</th>\n",
       "      <th>dia_semana_sexta-feira</th>\n",
       "      <th>dia_semana_sábado</th>\n",
       "      <th>dia_semana_terça-feira</th>\n",
       "      <th>tipo_acidente_atropelamento de animal</th>\n",
       "      <th>tipo_acidente_atropelamento de pedestre</th>\n",
       "      <th>tipo_acidente_capotamento</th>\n",
       "      <th>...</th>\n",
       "      <th>tracado_via_interseção de vias</th>\n",
       "      <th>tracado_via_não informado</th>\n",
       "      <th>tracado_via_ponte</th>\n",
       "      <th>tracado_via_reta</th>\n",
       "      <th>tracado_via_retorno regulamentado</th>\n",
       "      <th>tracado_via_rotatória</th>\n",
       "      <th>tracado_via_túnel</th>\n",
       "      <th>tracado_via_viaduto</th>\n",
       "      <th>uso_solo_não</th>\n",
       "      <th>uso_solo_sim</th>\n",
       "    </tr>\n",
       "    <tr>\n",
       "      <th>br_km</th>\n",
       "      <th>ano</th>\n",
       "      <th></th>\n",
       "      <th></th>\n",
       "      <th></th>\n",
       "      <th></th>\n",
       "      <th></th>\n",
       "      <th></th>\n",
       "      <th></th>\n",
       "      <th></th>\n",
       "      <th></th>\n",
       "      <th></th>\n",
       "      <th></th>\n",
       "      <th></th>\n",
       "      <th></th>\n",
       "      <th></th>\n",
       "      <th></th>\n",
       "      <th></th>\n",
       "      <th></th>\n",
       "      <th></th>\n",
       "      <th></th>\n",
       "      <th></th>\n",
       "      <th></th>\n",
       "    </tr>\n",
       "  </thead>\n",
       "  <tbody>\n",
       "    <tr>\n",
       "      <td>116_34</td>\n",
       "      <td>2017</td>\n",
       "      <td>1</td>\n",
       "      <td>0</td>\n",
       "      <td>0</td>\n",
       "      <td>0</td>\n",
       "      <td>0</td>\n",
       "      <td>0</td>\n",
       "      <td>0</td>\n",
       "      <td>0</td>\n",
       "      <td>0</td>\n",
       "      <td>0</td>\n",
       "      <td>...</td>\n",
       "      <td>0</td>\n",
       "      <td>0</td>\n",
       "      <td>0</td>\n",
       "      <td>1</td>\n",
       "      <td>0</td>\n",
       "      <td>0</td>\n",
       "      <td>0</td>\n",
       "      <td>0</td>\n",
       "      <td>1</td>\n",
       "      <td>0</td>\n",
       "    </tr>\n",
       "    <tr>\n",
       "      <td>376_636</td>\n",
       "      <td>2017</td>\n",
       "      <td>1</td>\n",
       "      <td>0</td>\n",
       "      <td>0</td>\n",
       "      <td>0</td>\n",
       "      <td>0</td>\n",
       "      <td>0</td>\n",
       "      <td>0</td>\n",
       "      <td>0</td>\n",
       "      <td>0</td>\n",
       "      <td>0</td>\n",
       "      <td>...</td>\n",
       "      <td>0</td>\n",
       "      <td>0</td>\n",
       "      <td>0</td>\n",
       "      <td>0</td>\n",
       "      <td>0</td>\n",
       "      <td>0</td>\n",
       "      <td>0</td>\n",
       "      <td>0</td>\n",
       "      <td>1</td>\n",
       "      <td>0</td>\n",
       "    </tr>\n",
       "  </tbody>\n",
       "</table>\n",
       "<p>2 rows × 62 columns</p>\n",
       "</div>"
      ],
      "text/plain": [
       "              dia_semana_domingo  dia_semana_quarta-feira  \\\n",
       "br_km   ano                                                 \n",
       "116_34  2017                   1                        0   \n",
       "376_636 2017                   1                        0   \n",
       "\n",
       "              dia_semana_quinta-feira  dia_semana_segunda-feira  \\\n",
       "br_km   ano                                                       \n",
       "116_34  2017                        0                         0   \n",
       "376_636 2017                        0                         0   \n",
       "\n",
       "              dia_semana_sexta-feira  dia_semana_sábado  \\\n",
       "br_km   ano                                               \n",
       "116_34  2017                       0                  0   \n",
       "376_636 2017                       0                  0   \n",
       "\n",
       "              dia_semana_terça-feira  tipo_acidente_atropelamento de animal  \\\n",
       "br_km   ano                                                                   \n",
       "116_34  2017                       0                                      0   \n",
       "376_636 2017                       0                                      0   \n",
       "\n",
       "              tipo_acidente_atropelamento de pedestre  \\\n",
       "br_km   ano                                             \n",
       "116_34  2017                                        0   \n",
       "376_636 2017                                        0   \n",
       "\n",
       "              tipo_acidente_capotamento  ...  tracado_via_interseção de vias  \\\n",
       "br_km   ano                              ...                                   \n",
       "116_34  2017                          0  ...                               0   \n",
       "376_636 2017                          0  ...                               0   \n",
       "\n",
       "              tracado_via_não informado  tracado_via_ponte  tracado_via_reta  \\\n",
       "br_km   ano                                                                    \n",
       "116_34  2017                          0                  0                 1   \n",
       "376_636 2017                          0                  0                 0   \n",
       "\n",
       "              tracado_via_retorno regulamentado  tracado_via_rotatória  \\\n",
       "br_km   ano                                                              \n",
       "116_34  2017                                  0                      0   \n",
       "376_636 2017                                  0                      0   \n",
       "\n",
       "              tracado_via_túnel  tracado_via_viaduto  uso_solo_não  \\\n",
       "br_km   ano                                                          \n",
       "116_34  2017                  0                    0             1   \n",
       "376_636 2017                  0                    0             1   \n",
       "\n",
       "              uso_solo_sim  \n",
       "br_km   ano                 \n",
       "116_34  2017             0  \n",
       "376_636 2017             0  \n",
       "\n",
       "[2 rows x 62 columns]"
      ]
     },
     "execution_count": 77,
     "metadata": {},
     "output_type": "execute_result"
    }
   ],
   "source": [
    "df_dummies.head(2)"
   ]
  },
  {
   "cell_type": "markdown",
   "metadata": {},
   "source": [
    "## 3. Separação de base de Dados"
   ]
  },
  {
   "cell_type": "code",
   "execution_count": 78,
   "metadata": {},
   "outputs": [],
   "source": [
    "df_dummies = df_dummies.reset_index()\n",
    "a = pd.DataFrame(df_dummies['ano'].value_counts())\n",
    "a  = a.reset_index()\n"
   ]
  },
  {
   "cell_type": "code",
   "execution_count": 79,
   "metadata": {},
   "outputs": [
    {
     "data": {
      "text/html": [
       "<div>\n",
       "<style scoped>\n",
       "    .dataframe tbody tr th:only-of-type {\n",
       "        vertical-align: middle;\n",
       "    }\n",
       "\n",
       "    .dataframe tbody tr th {\n",
       "        vertical-align: top;\n",
       "    }\n",
       "\n",
       "    .dataframe thead th {\n",
       "        text-align: right;\n",
       "    }\n",
       "</style>\n",
       "<table border=\"1\" class=\"dataframe\">\n",
       "  <thead>\n",
       "    <tr style=\"text-align: right;\">\n",
       "      <th></th>\n",
       "      <th>ano</th>\n",
       "      <th>Qtd</th>\n",
       "      <th>%</th>\n",
       "    </tr>\n",
       "  </thead>\n",
       "  <tbody>\n",
       "    <tr>\n",
       "      <td>0</td>\n",
       "      <td>2017</td>\n",
       "      <td>56844</td>\n",
       "      <td>36.769862</td>\n",
       "    </tr>\n",
       "    <tr>\n",
       "      <td>1</td>\n",
       "      <td>2018</td>\n",
       "      <td>43658</td>\n",
       "      <td>28.240423</td>\n",
       "    </tr>\n",
       "    <tr>\n",
       "      <td>2</td>\n",
       "      <td>2019</td>\n",
       "      <td>41927</td>\n",
       "      <td>27.120716</td>\n",
       "    </tr>\n",
       "    <tr>\n",
       "      <td>3</td>\n",
       "      <td>2020</td>\n",
       "      <td>12165</td>\n",
       "      <td>7.868999</td>\n",
       "    </tr>\n",
       "  </tbody>\n",
       "</table>\n",
       "</div>"
      ],
      "text/plain": [
       "    ano    Qtd          %\n",
       "0  2017  56844  36.769862\n",
       "1  2018  43658  28.240423\n",
       "2  2019  41927  27.120716\n",
       "3  2020  12165   7.868999"
      ]
     },
     "execution_count": 79,
     "metadata": {},
     "output_type": "execute_result"
    }
   ],
   "source": [
    "a['%'] = (a['ano']/len(df))*100\n",
    "col = ['ano','Qtd','%']\n",
    "a.columns = col\n",
    "a"
   ]
  },
  {
   "cell_type": "markdown",
   "metadata": {},
   "source": [
    "### 3.1 In time : Periodo de 2017 a 2018"
   ]
  },
  {
   "cell_type": "code",
   "execution_count": 80,
   "metadata": {},
   "outputs": [],
   "source": [
    "df_dummies['ano'] = df_dummies['ano'].astype(int)"
   ]
  },
  {
   "cell_type": "code",
   "execution_count": 81,
   "metadata": {},
   "outputs": [],
   "source": [
    "train = df_dummies[df_dummies['ano']<2019]\n",
    "train = train.set_index(['br_km','ano'])"
   ]
  },
  {
   "cell_type": "markdown",
   "metadata": {},
   "source": [
    "### 3.2 In time Validation: Periodo de 2019"
   ]
  },
  {
   "cell_type": "code",
   "execution_count": 82,
   "metadata": {},
   "outputs": [],
   "source": [
    "valid = df_dummies[df_dummies['ano']==2019]\n",
    "valid = valid.set_index(['br_km','ano'])"
   ]
  },
  {
   "cell_type": "markdown",
   "metadata": {},
   "source": [
    "### 3.3 Out of time: Periodo de 2020"
   ]
  },
  {
   "cell_type": "code",
   "execution_count": 83,
   "metadata": {},
   "outputs": [],
   "source": [
    "out_of = df_dummies[df_dummies['ano']==2020]\n",
    "out_of = out_of.set_index(['br_km','ano'])"
   ]
  },
  {
   "cell_type": "markdown",
   "metadata": {},
   "source": [
    "## 4. Encontrando Melhor número de Clusters"
   ]
  },
  {
   "cell_type": "code",
   "execution_count": 85,
   "metadata": {},
   "outputs": [
    {
     "data": {
      "image/png": "[encoded data removed]",
      "text/plain": [
       "<Figure size 432x288 with 1 Axes>"
      ]
     },
     "metadata": {
      "needs_background": "light"
     },
     "output_type": "display_data"
    }
   ],
   "source": [
    "wcss = []\n",
    "for i in range(1, 20):\n",
    "    kmeans = KMeans(n_clusters=i, init='k-means++', max_iter=300, n_init=10, random_state=0)\n",
    "    kmeans.fit(train)\n",
    "    wcss.append(kmeans.inertia_)\n",
    "plt.plot(range(1, 20), wcss)\n",
    "plt.title('Elbow Method')\n",
    "plt.xlabel('Number of clusters')\n",
    "plt.ylabel('WCSS')\n",
    "plt.show()"
   ]
  },
  {
   "cell_type": "markdown",
   "metadata": {},
   "source": [
    "## 5. Treinando Modelo"
   ]
  },
  {
   "cell_type": "code",
   "execution_count": 86,
   "metadata": {},
   "outputs": [
    {
     "data": {
      "text/plain": [
       "KMeans(algorithm='auto', copy_x=True, init='k-means++', max_iter=300,\n",
       "       n_clusters=15, n_init=10, n_jobs=None, precompute_distances='auto',\n",
       "       random_state=0, tol=0.0001, verbose=0)"
      ]
     },
     "execution_count": 86,
     "metadata": {},
     "output_type": "execute_result"
    }
   ],
   "source": [
    "kmeans = KMeans(n_clusters=15, init='k-means++', max_iter=300, n_init=10, random_state=0)\n",
    "kmeans.fit(train)"
   ]
  },
  {
   "cell_type": "markdown",
   "metadata": {},
   "source": [
    "## 6. Resultado In time"
   ]
  },
  {
   "cell_type": "code",
   "execution_count": 87,
   "metadata": {},
   "outputs": [],
   "source": [
    "cluster_train = kmeans.predict(train)"
   ]
  },
  {
   "cell_type": "markdown",
   "metadata": {},
   "source": [
    "## 7. Resultado In time Validation"
   ]
  },
  {
   "cell_type": "code",
   "execution_count": 88,
   "metadata": {},
   "outputs": [],
   "source": [
    "cluster_valid = kmeans.predict(valid)"
   ]
  },
  {
   "cell_type": "markdown",
   "metadata": {},
   "source": [
    "## 8 . Resultado Out - of - time"
   ]
  },
  {
   "cell_type": "code",
   "execution_count": 89,
   "metadata": {},
   "outputs": [],
   "source": [
    "cluster_out = kmeans.predict(out_of)"
   ]
  },
  {
   "cell_type": "markdown",
   "metadata": {},
   "source": [
    "## 9. Analise de Desempenho - Generalização"
   ]
  },
  {
   "cell_type": "code",
   "execution_count": null,
   "metadata": {},
   "outputs": [],
   "source": []
  },
  {
   "cell_type": "markdown",
   "metadata": {},
   "source": [
    "## 10. Junção das bases"
   ]
  },
  {
   "cell_type": "code",
   "execution_count": null,
   "metadata": {},
   "outputs": [],
   "source": []
  },
  {
   "cell_type": "markdown",
   "metadata": {},
   "source": [
    "## 11. Export da base"
   ]
  },
  {
   "cell_type": "code",
   "execution_count": null,
   "metadata": {},
   "outputs": [],
   "source": []
  }
 ],
 "metadata": {
  "kernelspec": {
   "display_name": "Python 3",
   "language": "python",
   "name": "python3"
  },
  "language_info": {
   "codemirror_mode": {
    "name": "ipython",
    "version": 3
   },
   "file_extension": ".py",
   "mimetype": "text/x-python",
   "name": "python",
   "nbconvert_exporter": "python",
   "pygments_lexer": "ipython3",
   "version": "3.7.4"
  }
 },
 "nbformat": 4,
 "nbformat_minor": 2
}
